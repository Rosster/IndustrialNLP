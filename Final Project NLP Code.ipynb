{
 "cells": [
  {
   "cell_type": "markdown",
   "metadata": {},
   "source": [
    "## Imports"
   ]
  },
  {
   "cell_type": "code",
   "execution_count": 15,
   "metadata": {},
   "outputs": [],
   "source": [
    "import math\n",
    "# This module creates progress bars that display nicely in notebooks, but is not necesary.\n",
    "# from tqdm import tqdm_notebook\n",
    "import re\n",
    "import pickle\n",
    "import spacy\n",
    "import numpy as np\n",
    "\n",
    "# It's important to use the large (lg) model to get \n",
    "# good word similarities\n",
    "nlp = spacy.load('en_core_web_lg')"
   ]
  },
  {
   "cell_type": "markdown",
   "metadata": {},
   "source": [
    "## Classes"
   ]
  },
  {
   "cell_type": "code",
   "execution_count": 16,
   "metadata": {},
   "outputs": [],
   "source": [
    "class Post(object):\n",
    "    \n",
    "    \n",
    "    @staticmethod\n",
    "    def decode(regex, sep=None):\n",
    "        if regex is None:\n",
    "            return None\n",
    "        else:\n",
    "            if sep is None:\n",
    "                return regex.group(0)\n",
    "            else:\n",
    "                return [w.strip() for w in regex.group(0).split(sep) if w != '']\n",
    "    \n",
    "    def __init__(self,entry):\n",
    "        section_regex = lambda section: r'(?<= {} \\=\\=)[\\s\\S]+?(?=\\=\\= |\\Z)'.format(section)\n",
    "        \n",
    "        self.title = entry[0]\n",
    "        self.text = entry[1]\n",
    "        cat = re.search(r'(?<=\\[\\[category:)[^\\s\\\\\\]]*',val[1],flags=re.I)\n",
    "        self.category =  cat.group(0) if cat is not None else None\n",
    "        self.intro = Post.decode(re.search(r'[\\s\\S]+(?=\\[\\[category)',self.text,re.M|re.I))\n",
    "        self.steps = Post.decode(re.search(section_regex('steps'),self.text,re.M | re.I), sep='\\n#')\n",
    "        self.tips = Post.decode(re.search(section_regex('tips'),self.text,re.M | re.I), sep='\\n*')\n",
    "        self.warnings = Post.decode(re.search(section_regex('warnings'),self.text,re.M | re.I), sep='\\n*')\n",
    "        self.tools = Post.decode(re.search(section_regex('you\\'ll need'),self.text,re.M | re.I), sep='\\n*')\n",
    "        self.related_posts = Post.decode(re.search(section_regex('related wikihows'),self.text,re.M | re.I), sep='\\n*')\n",
    "    \n",
    "    @property\n",
    "    def get_task(self):\n",
    "        subject_match = re.search(r'[\"\\'](.+)[\"\\']',self.title.lower())\n",
    "        doc = nlp(self.title.lower())\n",
    "\n",
    "        if subject_match is None:\n",
    "            return ([w.lemma_ for w in doc if w.pos_=='VERB'],[t.lemma_ for t in doc.noun_chunks])\n",
    "        action = re.sub(r'[\"\\']','',\n",
    "                       subject_match.group(0))\n",
    "        return ([action],\n",
    "                [t.lemma_ for t in doc if (t.pos_=='NOUN' or t.pos_=='PROPN') and t.text not in action])\n",
    "    \n",
    "    @property\n",
    "    def get_tool_nouns(self):\n",
    "        if self.tools is None:\n",
    "            return None\n",
    "        return set([np.lemma_ for tool in self.tools for np in nlp(tool).noun_chunks])"
   ]
  },
  {
   "cell_type": "code",
   "execution_count": 25,
   "metadata": {},
   "outputs": [],
   "source": [
    "class QuestionMatcher(object):\n",
    "    def __init__(self,post_list, tools_only=True):\n",
    "        if tools_only:\n",
    "            post_list = [p for p in post_list if p.tools is not None]\n",
    "        self.answer_dict = {}\n",
    "        print(\"Parsing and matching questions and answers...\")\n",
    "        self.task_title_dict = {}\n",
    "        self.phrase_to_doc_dict = {}\n",
    "        \n",
    "        for p in post_list:\n",
    "            task = tuple([tuple(set(i)) for i in p.get_task])\n",
    "            task = task[0] + task[1]\n",
    "            \n",
    "            if task in self.answer_dict:\n",
    "                self.answer_dict[task].update(p.get_tool_nouns)\n",
    "                self.task_title_dict[task].append(p.title)\n",
    "            else:\n",
    "                self.answer_dict[task] = p.get_tool_nouns\n",
    "                self.task_title_dict[task] = [p.title]\n",
    "                \n",
    "            # Fill out dictionary of parsed words and phrases\n",
    "            for w in task:\n",
    "                if w not in self.phrase_to_doc_dict:\n",
    "                    self.phrase_to_doc_dict[w] = nlp(w)\n",
    "        \n",
    "                \n",
    "    @staticmethod\n",
    "    def get_task(sentence):\n",
    "        subject_match = re.search(r'[\"\\'](.+)[\"\\']',sentence.lower())\n",
    "        doc = nlp(sentence.lower())\n",
    "\n",
    "        if subject_match is None:\n",
    "            res = ([w.lemma_ for w in doc if w.pos_=='VERB'],[t.lemma_ for t in doc.noun_chunks])\n",
    "        else:    \n",
    "            action = re.sub(r'[\"\\']','', subject_match.group(0))\n",
    "            res = ([action], [t.lemma_ for t in doc if (t.pos_=='NOUN' or t.pos_=='PROPN') and t.text not in action])\n",
    "        res = tuple([tuple(set(t)) for t in res])\n",
    "        return res[0]+res[1]\n",
    "    \n",
    "    def ask(self,question):\n",
    "        parsed_question = QuestionMatcher.get_task(question)\n",
    "        if len(parsed_question)==0:\n",
    "            print(\"No idea!\")\n",
    "            return None\n",
    "        \n",
    "        if self.answer_dict.get(parsed_question) is not None:\n",
    "            return self.answer_dict[parsed_question]\n",
    "        \n",
    "        words_q = parsed_question\n",
    "        words_q_doc = [nlp(w) for w in words_q]\n",
    "        words_a = [key for key in self.answer_dict if len(key) == len(words_q)]\n",
    "        if len(words_a)==0:\n",
    "            print(\"No idea!\")\n",
    "            return None\n",
    "        \n",
    "        best_sim = 0\n",
    "        best_match = None\n",
    "        for tup in words_a:\n",
    "            sim = np.mean([q.similarity(self.phrase_to_doc_dict[a]) for q,a in zip(words_q_doc,tup)])\n",
    "            if sim > best_sim:\n",
    "                best_sim = sim\n",
    "                best_match = tup\n",
    "        \n",
    "        print('Total similarity: {}'.format(best_sim))\n",
    "        print(\"Matched on {}\".format(' and '.join(self.task_title_dict[best_match])))\n",
    "        return self.answer_dict[best_match]\n",
    "            \n",
    "        \n",
    "        "
   ]
  },
  {
   "cell_type": "markdown",
   "metadata": {},
   "source": [
    "## Read Posts"
   ]
  },
  {
   "cell_type": "code",
   "execution_count": 26,
   "metadata": {},
   "outputs": [],
   "source": [
    "post_list = pickle.load(open(\"C:\\Programming\\Python\\Programs_NLP\\posts.p\",'rb'))"
   ]
  },
  {
   "cell_type": "markdown",
   "metadata": {},
   "source": [
    "## Begin Parsing Post Language"
   ]
  },
  {
   "cell_type": "code",
   "execution_count": 27,
   "metadata": {},
   "outputs": [],
   "source": [
    "tool_posts = [p for p in post_list if p.tools is not None]"
   ]
  },
  {
   "cell_type": "code",
   "execution_count": 32,
   "metadata": {},
   "outputs": [
    {
     "name": "stdout",
     "output_type": "stream",
     "text": [
      "Parsing and matching questions and answers...\n"
     ]
    },
    {
     "data": {
      "application/vnd.jupyter.widget-view+json": {
       "model_id": "3218fdc3c5714f44b99d6d0551465d73",
       "version_major": 2,
       "version_minor": 0
      },
      "text/html": [
       "<p>Failed to display Jupyter Widget of type <code>HBox</code>.</p>\n",
       "<p>\n",
       "  If you're reading this message in the Jupyter Notebook or JupyterLab Notebook, it may mean\n",
       "  that the widgets JavaScript is still loading. If this message persists, it\n",
       "  likely means that the widgets JavaScript library is either not installed or\n",
       "  not enabled. See the <a href=\"https://ipywidgets.readthedocs.io/en/stable/user_install.html\">Jupyter\n",
       "  Widgets Documentation</a> for setup instructions.\n",
       "</p>\n",
       "<p>\n",
       "  If you're reading this message in another frontend (for example, a static\n",
       "  rendering on GitHub or <a href=\"https://nbviewer.jupyter.org/\">NBViewer</a>),\n",
       "  it may mean that your frontend doesn't currently support widgets.\n",
       "</p>\n"
      ],
      "text/plain": [
       "HBox(children=(IntProgress(value=0, max=57583), HTML(value='')))"
      ]
     },
     "metadata": {},
     "output_type": "display_data"
    },
    {
     "name": "stdout",
     "output_type": "stream",
     "text": [
      "\n"
     ]
    }
   ],
   "source": [
    "robot = QuestionMatcher(tool_posts)"
   ]
  },
  {
   "cell_type": "code",
   "execution_count": 33,
   "metadata": {},
   "outputs": [
    {
     "data": {
      "application/vnd.jupyter.widget-view+json": {
       "model_id": "ce7eb9dd947c491796307bb480e9ca1d",
       "version_major": 2,
       "version_minor": 0
      },
      "text/html": [
       "<p>Failed to display Jupyter Widget of type <code>HBox</code>.</p>\n",
       "<p>\n",
       "  If you're reading this message in the Jupyter Notebook or JupyterLab Notebook, it may mean\n",
       "  that the widgets JavaScript is still loading. If this message persists, it\n",
       "  likely means that the widgets JavaScript library is either not installed or\n",
       "  not enabled. See the <a href=\"https://ipywidgets.readthedocs.io/en/stable/user_install.html\">Jupyter\n",
       "  Widgets Documentation</a> for setup instructions.\n",
       "</p>\n",
       "<p>\n",
       "  If you're reading this message in another frontend (for example, a static\n",
       "  rendering on GitHub or <a href=\"https://nbviewer.jupyter.org/\">NBViewer</a>),\n",
       "  it may mean that your frontend doesn't currently support widgets.\n",
       "</p>\n"
      ],
      "text/plain": [
       "HBox(children=(IntProgress(value=0, max=29091), HTML(value='')))"
      ]
     },
     "metadata": {},
     "output_type": "display_data"
    },
    {
     "name": "stdout",
     "output_type": "stream",
     "text": [
      "\n",
      "Total similarity: 0.8173856195757754\n",
      "Matched on Wash Your Clothes\n"
     ]
    },
    {
     "data": {
      "text/plain": [
       "{'a bucket / sink',\n",
       " 'a dryer',\n",
       " 'a washing machine',\n",
       " 'bleach',\n",
       " 'clothe',\n",
       " 'color - safe bleach',\n",
       " 'detergent',\n",
       " 'dryer sheet',\n",
       " 'fabric softener',\n",
       " 'the damp clothe'}"
      ]
     },
     "execution_count": 33,
     "metadata": {},
     "output_type": "execute_result"
    }
   ],
   "source": [
    "robot.ask('clean my clothes')"
   ]
  },
  {
   "cell_type": "code",
   "execution_count": 34,
   "metadata": {
    "scrolled": false
   },
   "outputs": [
    {
     "data": {
      "application/vnd.jupyter.widget-view+json": {
       "model_id": "b7665ec51ec4447896734fe4846bbc76",
       "version_major": 2,
       "version_minor": 0
      },
      "text/html": [
       "<p>Failed to display Jupyter Widget of type <code>HBox</code>.</p>\n",
       "<p>\n",
       "  If you're reading this message in the Jupyter Notebook or JupyterLab Notebook, it may mean\n",
       "  that the widgets JavaScript is still loading. If this message persists, it\n",
       "  likely means that the widgets JavaScript library is either not installed or\n",
       "  not enabled. See the <a href=\"https://ipywidgets.readthedocs.io/en/stable/user_install.html\">Jupyter\n",
       "  Widgets Documentation</a> for setup instructions.\n",
       "</p>\n",
       "<p>\n",
       "  If you're reading this message in another frontend (for example, a static\n",
       "  rendering on GitHub or <a href=\"https://nbviewer.jupyter.org/\">NBViewer</a>),\n",
       "  it may mean that your frontend doesn't currently support widgets.\n",
       "</p>\n"
      ],
      "text/plain": [
       "HBox(children=(IntProgress(value=0, max=29091), HTML(value='')))"
      ]
     },
     "metadata": {},
     "output_type": "display_data"
    },
    {
     "name": "stdout",
     "output_type": "stream",
     "text": [
      "\n",
      "Total similarity: 0.9327035024469195\n",
      "Matched on Paint a Room\n"
     ]
    },
    {
     "data": {
      "text/plain": [
       "{\"' ' ' bristle paint brush\",\n",
       " \"' ' ' cloth rag\",\n",
       " \"' ' ' dropcloth\",\n",
       " \"' ' ' indoor paint\",\n",
       " \"' ' ' indoor primer\",\n",
       " \"' ' ' masking tape\",\n",
       " \"' ' ' painting clothe\",\n",
       " \"' ' ' paper cup\",\n",
       " \"' ' ' roller handle\",\n",
       " \"' ' ' screwdriver(s\",\n",
       " \"' ' ' spackle\",\n",
       " \"' ' ' stepladder\",\n",
       " \"' ' ' work light\",\n",
       " \"* ' ' ' edge roller\",\n",
       " \"* ' ' ' edging pad\",\n",
       " \"* ' ' ' spray paint\",\n",
       " \"* a ' ' ' paint roller\",\n",
       " \"* a ' ' ' paint sprayer\",\n",
       " '* durable plastic tarp',\n",
       " '* traditional',\n",
       " '-PRON-',\n",
       " '-PRON- 5 in 1 tool',\n",
       " '-PRON- clothe',\n",
       " '-PRON- floor',\n",
       " '-PRON- hair',\n",
       " '-PRON- hand',\n",
       " '-PRON- ladder',\n",
       " '-PRON- nice new paint',\n",
       " '-PRON- paintbrush',\n",
       " '-PRON- plastic',\n",
       " '-PRON- tarp',\n",
       " '-PRON- time',\n",
       " '-PRON- tool',\n",
       " '-PRON- wall',\n",
       " '2 \" tape',\n",
       " '2 ladder',\n",
       " '3 to 6 inch',\n",
       " '= = = optional tools===',\n",
       " 'a \" ceiling edge pad',\n",
       " \"a ' ' ' brush spinner\",\n",
       " \"a ' ' ' paint tray\",\n",
       " \"a ' ' ' painter 's 5-in-1 tool\",\n",
       " \"a ' ' ' sink\",\n",
       " \"a ' ' ' sponge mop\",\n",
       " 'a 2\"x12 \" plank',\n",
       " 'a 4 foot section',\n",
       " 'a 5 gallon bucket',\n",
       " 'a brush',\n",
       " 'a bucket',\n",
       " 'a ceiling',\n",
       " 'a circular blade',\n",
       " 'a dedicated tool',\n",
       " 'a door',\n",
       " 'a fairly smooth texture',\n",
       " 'a flat - head screwdriver',\n",
       " 'a fragile layer',\n",
       " 'a full - width roller',\n",
       " 'a good idea',\n",
       " 'a good reason',\n",
       " 'a graffiti - reduction measure',\n",
       " 'a half - cup',\n",
       " 'a handle',\n",
       " 'a large area',\n",
       " 'a large portion',\n",
       " 'a lot',\n",
       " 'a more expensive alternative',\n",
       " 'a narrow strip',\n",
       " 'a narrow stripe',\n",
       " 'a paintbrush',\n",
       " \"a painter 's cap\",\n",
       " 'a pole',\n",
       " 'a previous job',\n",
       " 'a roller',\n",
       " 'a sharp line',\n",
       " 'a slight grainy texture',\n",
       " 'a small metal screen',\n",
       " 'a spill',\n",
       " 'a sponge',\n",
       " 'a sponge mop',\n",
       " 'a spray',\n",
       " 'a stick',\n",
       " 'a thickness',\n",
       " 'a tight space',\n",
       " 'a tint primer',\n",
       " 'a tray',\n",
       " 'a use one',\n",
       " 'a variety',\n",
       " 'a wall',\n",
       " 'a weapon',\n",
       " 'accidental application',\n",
       " 'an alternative',\n",
       " 'an easy way',\n",
       " 'an ergonomic handle',\n",
       " 'another great tool',\n",
       " 'any wayward bristle',\n",
       " 'anything',\n",
       " 'bathroom',\n",
       " 'both brush',\n",
       " 'brush',\n",
       " 'bump',\n",
       " 'can usually be re - use several time',\n",
       " 'ceiling',\n",
       " 'clean edge',\n",
       " 'clean paint edge',\n",
       " 'cleaning',\n",
       " 'cleaning supply',\n",
       " 'cleanup',\n",
       " 'clear plastic tarp',\n",
       " 'color',\n",
       " 'corner',\n",
       " 'crack',\n",
       " 'danger',\n",
       " 'dent',\n",
       " 'different color',\n",
       " 'different lighting condition',\n",
       " 'difficulty',\n",
       " 'disposable foam brush',\n",
       " 'disposable latex glove',\n",
       " 'dry skin',\n",
       " 'e.g. kitchen',\n",
       " 'easy storage',\n",
       " 'exist room color',\n",
       " 'few coat',\n",
       " 'flat sheen',\n",
       " 'front',\n",
       " 'general - purpose or gardening glove',\n",
       " 'glove',\n",
       " 'good ventilation',\n",
       " 'grommet',\n",
       " 'half',\n",
       " 'hand',\n",
       " 'handle',\n",
       " 'hardware',\n",
       " 'hardware store',\n",
       " 'high - gloss and semi - gloss',\n",
       " 'high area',\n",
       " 'highly noxious vapor',\n",
       " 'home improvement',\n",
       " 'ideally one',\n",
       " 'inappropriate surface',\n",
       " 'indoor primer',\n",
       " 'interior',\n",
       " 'keep',\n",
       " 'large area',\n",
       " 'large job',\n",
       " 'large paint drip',\n",
       " 'latex paint',\n",
       " 'leak',\n",
       " 'long hair',\n",
       " 'long handle',\n",
       " 'low - bleed green \" frog tape',\n",
       " 'low - stick',\n",
       " 'low - stick blue \" painter \\' tape',\n",
       " 'masking',\n",
       " 'masking tape',\n",
       " 'medium width',\n",
       " 'metal surface',\n",
       " 'mind',\n",
       " 'more thorough masking and room preparation',\n",
       " 'much good visual coverage',\n",
       " 'multiple surface',\n",
       " 'nail hole',\n",
       " 'narrow - width roller',\n",
       " 'narrow tape',\n",
       " 'nearby surface',\n",
       " 'newspaper',\n",
       " 'oil - base paint',\n",
       " 'old paint',\n",
       " 'old sheet',\n",
       " 'only dark color',\n",
       " 'paint',\n",
       " 'paint and hardware store',\n",
       " 'paint applicator',\n",
       " 'paint brush',\n",
       " 'paint can',\n",
       " 'paint roller',\n",
       " 'paint stirrer',\n",
       " 'paint thinner',\n",
       " 'paint wall',\n",
       " 'painting',\n",
       " 'painting ceiling',\n",
       " 'painting room surface',\n",
       " 'paper towel',\n",
       " 'petroleum jelly',\n",
       " 'pick',\n",
       " 'plastic carpet runner',\n",
       " 'plenty',\n",
       " 'previously paint surface',\n",
       " 'protection',\n",
       " 'quite deceptive seeing',\n",
       " 'recommendation',\n",
       " 'regular tan masking tape',\n",
       " 'roller',\n",
       " 'rough surface',\n",
       " 'rust',\n",
       " 'satin',\n",
       " 'scissor',\n",
       " 'self defense',\n",
       " 'several different texture',\n",
       " 'several type',\n",
       " 'shag',\n",
       " 'shelving',\n",
       " 'shoe',\n",
       " 'small area',\n",
       " 'small swath',\n",
       " 'small width',\n",
       " 'smooth surface',\n",
       " 'some paint swatch',\n",
       " 'some people',\n",
       " 'some place',\n",
       " 'some tight space',\n",
       " 'something',\n",
       " 'splatter',\n",
       " 'spray',\n",
       " 'spray paint',\n",
       " 'sprayer',\n",
       " 'tall wall',\n",
       " 'tape',\n",
       " 'texture',\n",
       " 'that color change',\n",
       " 'the amount',\n",
       " 'the application',\n",
       " 'the brush',\n",
       " 'the can',\n",
       " 'the ceiling',\n",
       " 'the end',\n",
       " 'the entire area',\n",
       " 'the extra paint',\n",
       " 'the floor',\n",
       " 'the good general - purpose choice',\n",
       " 'the jelly',\n",
       " 'the job',\n",
       " 'the kind',\n",
       " 'the large amount',\n",
       " \"the manufacturer 's sample\",\n",
       " 'the one',\n",
       " 'the pad',\n",
       " 'the paint',\n",
       " 'the priming coat',\n",
       " 'the printing',\n",
       " 'the right color',\n",
       " 'the right sheen',\n",
       " 'the rim',\n",
       " 'the roller',\n",
       " 'the room',\n",
       " 'the room light',\n",
       " 'the runner',\n",
       " 'the same primer',\n",
       " 'the sharp little spike',\n",
       " 'the side',\n",
       " 'the skin',\n",
       " 'the surface',\n",
       " 'the texture',\n",
       " 'the thin roller',\n",
       " 'the tip',\n",
       " 'the wall',\n",
       " 'the way',\n",
       " 'this name',\n",
       " 'this purpose',\n",
       " 'this tool',\n",
       " 'tight or curvy space',\n",
       " 'trim',\n",
       " 'trim ( e.g. woodwork',\n",
       " 'unintentional smear',\n",
       " 'unwanted drip',\n",
       " 'upper wall',\n",
       " 'very large area',\n",
       " 'very small job',\n",
       " 'wall',\n",
       " 'water',\n",
       " 'water - base paint',\n",
       " 'water and oil base paint',\n",
       " 'wet area',\n",
       " 'wheel',\n",
       " 'wide brush',\n",
       " 'wide head',\n",
       " 'width',\n",
       " 'wooden one',\n",
       " 'woodwork',\n",
       " 'wrist'}"
      ]
     },
     "execution_count": 34,
     "metadata": {},
     "output_type": "execute_result"
    }
   ],
   "source": [
    "robot.ask('paint your room')"
   ]
  },
  {
   "cell_type": "code",
   "execution_count": 35,
   "metadata": {},
   "outputs": [
    {
     "data": {
      "application/vnd.jupyter.widget-view+json": {
       "model_id": "b46ce21a85ad427a86b947808384a432",
       "version_major": 2,
       "version_minor": 0
      },
      "text/html": [
       "<p>Failed to display Jupyter Widget of type <code>HBox</code>.</p>\n",
       "<p>\n",
       "  If you're reading this message in the Jupyter Notebook or JupyterLab Notebook, it may mean\n",
       "  that the widgets JavaScript is still loading. If this message persists, it\n",
       "  likely means that the widgets JavaScript library is either not installed or\n",
       "  not enabled. See the <a href=\"https://ipywidgets.readthedocs.io/en/stable/user_install.html\">Jupyter\n",
       "  Widgets Documentation</a> for setup instructions.\n",
       "</p>\n",
       "<p>\n",
       "  If you're reading this message in another frontend (for example, a static\n",
       "  rendering on GitHub or <a href=\"https://nbviewer.jupyter.org/\">NBViewer</a>),\n",
       "  it may mean that your frontend doesn't currently support widgets.\n",
       "</p>\n"
      ],
      "text/plain": [
       "HBox(children=(IntProgress(value=0, max=17068), HTML(value='')))"
      ]
     },
     "metadata": {},
     "output_type": "display_data"
    },
    {
     "name": "stdout",
     "output_type": "stream",
     "text": [
      "\n",
      "Total similarity: 0.9619860490105135\n",
      "Matched on Fix a Hole in a Wall\n"
     ]
    },
    {
     "data": {
      "text/plain": [
       "{'120 grit sandpaper',\n",
       " 'a good six or four inch putty knife',\n",
       " 'standard wallboard joint compound',\n",
       " 'the block or sanding device'}"
      ]
     },
     "execution_count": 35,
     "metadata": {},
     "output_type": "execute_result"
    }
   ],
   "source": [
    "robot.ask('fix a hole in the wall')"
   ]
  },
  {
   "cell_type": "code",
   "execution_count": 36,
   "metadata": {},
   "outputs": [
    {
     "data": {
      "text/plain": [
       "{'-PRON- local video game / electronic store',\n",
       " 'a game',\n",
       " 'a game system(handheld',\n",
       " 'computers count',\n",
       " 'home system',\n",
       " 'one or more controller'}"
      ]
     },
     "execution_count": 36,
     "metadata": {},
     "output_type": "execute_result"
    }
   ],
   "source": [
    "robot.ask('play video games')"
   ]
  },
  {
   "cell_type": "code",
   "execution_count": 37,
   "metadata": {},
   "outputs": [
    {
     "data": {
      "application/vnd.jupyter.widget-view+json": {
       "model_id": "fcaa48fe4a6348b0b791606778a499b2",
       "version_major": 2,
       "version_minor": 0
      },
      "text/html": [
       "<p>Failed to display Jupyter Widget of type <code>HBox</code>.</p>\n",
       "<p>\n",
       "  If you're reading this message in the Jupyter Notebook or JupyterLab Notebook, it may mean\n",
       "  that the widgets JavaScript is still loading. If this message persists, it\n",
       "  likely means that the widgets JavaScript library is either not installed or\n",
       "  not enabled. See the <a href=\"https://ipywidgets.readthedocs.io/en/stable/user_install.html\">Jupyter\n",
       "  Widgets Documentation</a> for setup instructions.\n",
       "</p>\n",
       "<p>\n",
       "  If you're reading this message in another frontend (for example, a static\n",
       "  rendering on GitHub or <a href=\"https://nbviewer.jupyter.org/\">NBViewer</a>),\n",
       "  it may mean that your frontend doesn't currently support widgets.\n",
       "</p>\n"
      ],
      "text/plain": [
       "HBox(children=(IntProgress(value=0, max=29091), HTML(value='')))"
      ]
     },
     "metadata": {},
     "output_type": "display_data"
    },
    {
     "name": "stdout",
     "output_type": "stream",
     "text": [
      "\n",
      "Total similarity: 0.8844088023403976\n",
      "Matched on Find a Skatespot\n"
     ]
    },
    {
     "data": {
      "text/plain": [
       "{'creativity',\n",
       " 'imagination',\n",
       " 'ledge',\n",
       " 'safety gear',\n",
       " 'skateboard',\n",
       " 'skateboard wax'}"
      ]
     },
     "execution_count": 37,
     "metadata": {},
     "output_type": "execute_result"
    }
   ],
   "source": [
    "robot.ask('find a girlfriend')"
   ]
  },
  {
   "cell_type": "markdown",
   "metadata": {},
   "source": [
    "## Isolate Industry-Related Posts"
   ]
  },
  {
   "cell_type": "markdown",
   "metadata": {},
   "source": [
    "This came after an investigation into which categories apply best to our target audience."
   ]
  },
  {
   "cell_type": "code",
   "execution_count": 48,
   "metadata": {},
   "outputs": [],
   "source": [
    "cat_list=[]\n",
    "#cat_list.append(nlp(posts[0:100].category))\n",
    "for x in post_list:\n",
    "    if x.category not in cat_list:\n",
    "        cat_list.append(x.category)\n",
    "cat_list\n",
    "import pandas as pd\n",
    "cat_df = pd.DataFrame(cat_list)\n",
    "cat_df_2 = cat_df.drop([0,1,2,4,5,6,7,8,11,21,26,12,14,16,18,23,28,25,30,33,35,38,40,43,46,47,48,49,50,55,58,59,60,61,62,100,102,111,110,106,104,105,108,112,118,119,120,127,128,141,142,143,144,145,146,147,148,164,166,167,168,177,178,179,180,181,188,189,190,139,158,155,130,133,374,375,376,377,378,379,381,383,384,389,393,397,398,403,408,409,411,420,460,462,466,469,472,473,474,475,476,478,482,484,486,487,495,496,504,506,509,818,841,853,816,817,823,824,826,820,819,827,831,834,835,837,838,839,840,848,851,852,856,857,858,859,860,861,862,868,863,864,907,908,869,906,911,917,918,919,923,927,928,930,932,934,935,937,1365,1372,1374,1376,1377,1380,1381,1384,1387,1389,1390,1391,1394,1395,1400,1401,1402,1403,1407,1416,1420,1421,1422,1423,1424,1425,1426,1429,1430,1431,1433,1434,1435,1692,1693,1695,1696,1699,1701,1702,1705,1707,1708,1714,1716,1717,1718,1720,1721,1723,1724,1725,1726,1727,1728,1729,1730,1731,1732,1733,1734,1735,1736,1737,1739,1740,1741,1742,1743,1744,1745,1746,1747,1748,1749,1751,1760,1762,1764,1768,1769,1771,1773,1774,1775,1777,1781,1785,1787,1788,1791,1792,1795,1797,1801,1803,1805,1807,1808,1809,1813,1815,1817,1821,1822,1823,1824,1828,1832,1831,1833,1835,1851,1855,1852,1853,1854,1845,1856,1857,1858,1859,1860,1861,1862,1863,1864,1865,1866,1869,1841,1991,1993,1999,2000,2001,2002,2003,2006,2007,2009,2012,2011,2013,2014,2015,2016,2017,2018,2020,2024,2026,2028,2030,2033,2036,2040,2041,2042,2043,2044,2045,2046,2047,2048,2049,2050,2051,2054,2055,2056,2058,2059,2060,2061,2063,2064])\n",
    "cat_df_3 = cat_df_2.drop([13,79,80,71,72,68,56,73,74,85,87,88,89,90,91,92,93,94,95,98,124,154,160,161,201,211,212,213,215,219,222,223,224,227,229,231,235,237,241,242,243,251,254,257,260,262,263,264,266,269,273,274,275,277,280,283,286,287,288,289,291,292,295,300,301,305,306,307,309,316,317,318,323,324,325,326,328,329,330,331,332,333,334,335,336,337,339,341,345,346,347,348,349,350,352,353,354,355,357,361,362,363,364,366,367,368,369,371,372,373,387,392,396,400,404,405,422,423,427,432,433,434,436,438,430,440,441,442,444,457,458,459,488,512,514,515,517,518,521,522,523,526,529,530,532,534,537,538,542,543,544,546,547,550,553,554,555,556,560,564,565,566,568,570,577,579,580,582,588,593,594,596,599,1804,1819,1829,1836,1839,1840,1844,1846,1872,1875,1881,1882,1884,1885,1886,1887,1888,1889,1890,1894,1897,1899,1900,1904,1906,1907,1908,1910,1911,1912,1914,1915,1916,1918,1921,1922,1923,1924,1929,1931,1932,1933,1934,1935,1936,1937,1938,1939,1940,1941,1942,1943,1945,1946,1948,1951,1952,1953,1954,1955,1956,1957,1958,1960,1961,1962,1965,1966,1967,1968,1969,1970,1971,1972,1973,1974,1975,1976,1977,1979,1980,1981,1983,1984,1988,1990])\n",
    "#cat_df_3[280:340]\n",
    "len(cat_df_3)\n",
    "#puts us at 1471\n",
    "cat_df_final = cat_df_3.drop([605,614,617,616,619,618,626,632,670,676])\n"
   ]
  },
  {
   "cell_type": "code",
   "execution_count": 49,
   "metadata": {},
   "outputs": [],
   "source": [
    "industry_posts = [p for p in tool_posts if p.category in cat_df_final[0].values]"
   ]
  },
  {
   "cell_type": "code",
   "execution_count": null,
   "metadata": {},
   "outputs": [
    {
     "name": "stdout",
     "output_type": "stream",
     "text": [
      "Parsing and matching questions and answers...\n"
     ]
    },
    {
     "data": {
      "application/vnd.jupyter.widget-view+json": {
       "model_id": "c53aebc701de489783c1c365e6e91a9a",
       "version_major": 2,
       "version_minor": 0
      },
      "text/html": [
       "<p>Failed to display Jupyter Widget of type <code>HBox</code>.</p>\n",
       "<p>\n",
       "  If you're reading this message in the Jupyter Notebook or JupyterLab Notebook, it may mean\n",
       "  that the widgets JavaScript is still loading. If this message persists, it\n",
       "  likely means that the widgets JavaScript library is either not installed or\n",
       "  not enabled. See the <a href=\"https://ipywidgets.readthedocs.io/en/stable/user_install.html\">Jupyter\n",
       "  Widgets Documentation</a> for setup instructions.\n",
       "</p>\n",
       "<p>\n",
       "  If you're reading this message in another frontend (for example, a static\n",
       "  rendering on GitHub or <a href=\"https://nbviewer.jupyter.org/\">NBViewer</a>),\n",
       "  it may mean that your frontend doesn't currently support widgets.\n",
       "</p>\n"
      ],
      "text/plain": [
       "HBox(children=(IntProgress(value=0, max=39010), HTML(value='')))"
      ]
     },
     "metadata": {},
     "output_type": "display_data"
    }
   ],
   "source": [
    "industry_qa = QuestionMatcher(industry_posts)"
   ]
  },
  {
   "cell_type": "code",
   "execution_count": null,
   "metadata": {},
   "outputs": [],
   "source": []
  }
 ],
 "metadata": {
  "kernelspec": {
   "display_name": "Python 3",
   "language": "python",
   "name": "python3"
  },
  "language_info": {
   "codemirror_mode": {
    "name": "ipython",
    "version": 3
   },
   "file_extension": ".py",
   "mimetype": "text/x-python",
   "name": "python",
   "nbconvert_exporter": "python",
   "pygments_lexer": "ipython3",
   "version": "3.6.4"
  }
 },
 "nbformat": 4,
 "nbformat_minor": 2
}
