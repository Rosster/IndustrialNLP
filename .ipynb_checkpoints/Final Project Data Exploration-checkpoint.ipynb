{
 "cells": [
  {
   "cell_type": "markdown",
   "metadata": {},
   "source": [
    "# Final Project"
   ]
  },
  {
   "cell_type": "markdown",
   "metadata": {},
   "source": [
    "## Data Exploration"
   ]
  },
  {
   "cell_type": "code",
   "execution_count": 117,
   "metadata": {},
   "outputs": [],
   "source": [
    "from xml.dom.minidom import parse\n",
    "from math import log\n",
    "import xml\n",
    "import os\n",
    "import sys\n",
    "import csv \n",
    "import json\n",
    "import re\n",
    "import requests\n",
    "import math\n",
    "from tqdm import tqdm\n",
    "import xml.dom.minidom\n",
    "from collections import Counter\n",
    "data_path = r\"C:\\Programming\\Python\\Programs_NLP\\wikihowcom-20141208-current.xml\"\n",
    "if sys.version_info[0] < 3:\n",
    "    raise Exception(\"Python 3 or a more recent version is required.\")\n",
    "\n",
    "batches = []\n",
    "batch_size = 100\n",
    "batch_count = 0\n",
    "lines = 12328007"
   ]
  },
  {
   "cell_type": "code",
   "execution_count": 18,
   "metadata": {},
   "outputs": [],
   "source": [
    "def process_batch(batches):\n",
    "\n",
    "        with open('temp.xml', 'w') as f:\n",
    "            f.write('<mediawiki xmlns=\"http://www.mediawiki.org/xml/export-0.8/\" xmlns:xsi=\"http://www.w3.org/2001/XMLSchema-instance\" xsi:schemaLocation=\"http://www.mediawiki.org/xml/export-0.8/ http://www.mediawiki.org/xml/export-0.8.xsd\" version=\"0.8\" xml:lang=\"en\">\\n')\n",
    "            for item in batches:\n",
    "                f.write(\"%s\" % item.encode('utf8'))\n",
    "            f.close()\n",
    "\n",
    "        with open('temp.xml', 'a') as f:\n",
    "            f.write('</mediawiki>')\n",
    "            f.close()\n",
    "        data_dict = parse_data('test.xml')\n",
    "        keys = [key for key in data_dict]\n",
    "\n",
    "        posts = []\n",
    "        for key in keys:\n",
    "            posts.append(parse_(key, data_dict))\n",
    "\n",
    "        with open('temp.json', 'w') as outfile:\n",
    "            for pa in posts:\n",
    "                json.dump({ \"index\" : {\"_index\": \"wikihow\", \"_type\": \"page\", \"_id\": pa[\"id\"]}}, outfile)\n",
    "                outfile.write('\\n')\n",
    "                json.dump(pa, outfile)\n",
    "                outfile.write('\\n')\n",
    "            outfile.close()\n",
    "        bulk_data = []\n",
    "\n",
    "        for pa in posts:\n",
    "            bulk_data.append({\"index\" : {\"_index\": \"wikihow\", \"_type\": \"page\", \"_id\": pa[\"id\"]}})\n",
    "            bulk_data.append(json.dumps(pa, ensure_ascii=False))\n",
    "\n",
    "        print(\"Batch Number: \" + str(batch_count) + \" Processed\")\n",
    "        print(\"Indexing Batch Number: \" + str(batch_count) + \"...\")\n",
    "# \t\tconfig = {'host': 'localhost'}\n",
    "# \t\tes = elasticsearch.Elasticsearch([config,], timeout=300)\n",
    "# \t\tres = es.bulk(index = 'wikihow', body = bulk_data)\n",
    "        #print(res)\n",
    "        # check data is in there, and structure in there\n",
    "        #print(\"Test Import...\")\n",
    "        #print(json.dumps(es.search(body={\"query\": {\"match_all\": {}}}, index = 'wikihow')))\n",
    "\n",
    "def parse_data(file):\n",
    "    file_dict = {}\n",
    "    # Open XML document using minidom parser\n",
    "    DOMTree = xml.dom.minidom.parse(file)\n",
    "    mediawiki = DOMTree.documentElement\n",
    "    #if mediawiki.hasAttribute(\"xmlns\"):\n",
    "        #print(\"Root element : %s\" % mediawiki.getAttribute(\"xmlns\"))\n",
    "    # Get all the pages on file\n",
    "    pages = mediawiki.getElementsByTagName(\"page\")\n",
    "    # Get high level namespace information.\n",
    "    for page in pages:\n",
    "        page_dom = page.getElementsByTagName('text')[0]\n",
    "        dom_text = page_dom.childNodes[0].data\n",
    "        if str(dom_text[0]) == '#':\n",
    "            pass\n",
    "        else:\n",
    "            id_ = page.getElementsByTagName('id')[0]\n",
    "            id_ = id_.childNodes[0].data\n",
    "            title = page.getElementsByTagName('title')[0]\n",
    "            title = title.childNodes[0].data\n",
    "            text = page.getElementsByTagName('text')[0]\n",
    "            text = text.childNodes[0].data\n",
    "            file_dict[int(id_)] = [title, text]\n",
    "    return file_dict\n",
    "\n",
    "\n",
    "#data_dict = parse_data(data_path)\n",
    "\n",
    "def structure(page_id, file_dict):\n",
    "    file_ = file_dict[page_id][1]\n",
    "    lines = file_.split(\"\\n\")\n",
    "    lines_ = []\n",
    "    for line in lines:\n",
    "        if line != \"\":\n",
    "            lines_.append(line)\n",
    "    intro = lines_[0]\n",
    "    try:\n",
    "        if \"Category\" in lines_[1]:\n",
    "            cat = lines_[1]\n",
    "            if \":\" in cat:\n",
    "                cat = cat.split(\":\")[1][:-2]\n",
    "        else:\n",
    "            cat = None\n",
    "    except IndexError:\n",
    "        cat = None\n",
    "    try:\n",
    "        if \"Category\" in lines[2] and cat is not None:\n",
    "            cat = cat + \",\" + re.sub('[^A-Za-z0-9\\s\\.|\\:\\*]+', '', lines[2]).split(\":\")[1]\n",
    "            process = lines_[3:]\n",
    "        else:\n",
    "            process = lines_[2:]\n",
    "    except IndexError:\n",
    "        process = None\n",
    "\n",
    "    return intro, cat, process\n",
    "\n",
    "def merge(data_list):\n",
    "    try:\n",
    "        data_list = \" \".join(data_list)\n",
    "        data_list = data_list.split(\" ==\")\n",
    "        data_list = list(zip(*[iter(data_list)] * 2))\n",
    "    except TypeError:\n",
    "        data_list = []\n",
    "    return data_list\n",
    "\n",
    "def construct_dict(data_list):\n",
    "    textdict = {}\n",
    "    steps_dict = {}\n",
    "    #construct step dictt\n",
    "    try:\n",
    "        if data_list[0][1] != \"\":\n",
    "            title = re.sub(r'([^\\:\\w])+', '', data_list[0][0]) \n",
    "            #print(title)\n",
    "            steps = data_list[0][1].split(\" #\")\n",
    "            steps = [st for st in steps if st != \"\"]\n",
    "            step_index = [\"step\" + str(number + 1) for number in range(len(steps))]\n",
    "            step_data = [ste.split(\"<br><br>\") for ste in steps]\n",
    "            step_new =  []\n",
    "            for step in step_data:\n",
    "                step_new.append(step[0])  \n",
    "            step_data = step_new\n",
    "            steps_dict = dict(zip(step_index, step_data))\n",
    "            #return steps_dict\n",
    "            textdict[\"steps\"] = steps_dict\n",
    "        subsections = []\n",
    "        for sect in data_list[1:]:\n",
    "            if sect == \"\":\n",
    "                sect.pop(0)\n",
    "                #print(sect)\n",
    "            title = sect[0]\n",
    "            title = re.sub(r'([^\\:\\w_])+', '', title)\n",
    "            title  = \"\".join([t for t in title if t != \" \"])\n",
    "            #print(sect[1:])\n",
    "            content = sect[1]\n",
    "            if content[1] == \"*\":\n",
    "                subs = content.split(\"*\")\n",
    "                subs = [s for s in subs if s != \" \"]\n",
    "                subs = [re.sub('[^A-Za-z0-9\\s\\.|\\:\\*]+', '', string) for string in subs]\n",
    "                textdict[title] = subs\n",
    "        return textdict\n",
    "    except IndexError:\n",
    "        return {}\n",
    "\n",
    "\n",
    "def parse_(page_id, data_dict):\n",
    "    structured = structure(page_id, data_dict)\n",
    "    final_dict = construct_dict(merge(structured[2]))\n",
    "    final_dict[\"title\"] = data_dict[page_id][0]\n",
    "    final_dict[\"introduction\"] = structured[0]\n",
    "    final_dict[\"category\"] = structured[1]\n",
    "    final_dict[\"id\"] = page_id\n",
    "    #parsed = json.loads(json.dumps(final_dict, ensure_ascii=False, sort_keys=True))\n",
    "    #print(json.dumps(parsed, indent=4, sort_keys=True))\n",
    "    return final_dict"
   ]
  },
  {
   "cell_type": "markdown",
   "metadata": {},
   "source": [
    "## Parse Data (this will tax your memory)"
   ]
  },
  {
   "cell_type": "code",
   "execution_count": 39,
   "metadata": {},
   "outputs": [],
   "source": [
    "data_dict = parse_data(data_path)"
   ]
  },
  {
   "cell_type": "code",
   "execution_count": 156,
   "metadata": {},
   "outputs": [],
   "source": [
    "cat_list = []\n",
    "for val in data_dict.values():\n",
    "    cat = re.search(r'(?<=\\[\\[category:)[^\\s\\\\\\]]*',val[1],flags=re.I)\n",
    "    if cat is not None:\n",
    "        cat_list.append(cat.group(0))"
   ]
  },
  {
   "cell_type": "code",
   "execution_count": 135,
   "metadata": {},
   "outputs": [],
   "source": [
    "cat_counter = Counter(cat_list)"
   ]
  },
  {
   "cell_type": "code",
   "execution_count": 265,
   "metadata": {},
   "outputs": [],
   "source": [
    "test_title = list(data_dict.values())[5][0]"
   ]
  },
  {
   "cell_type": "code",
   "execution_count": 266,
   "metadata": {},
   "outputs": [
    {
     "data": {
      "text/plain": [
       "'\"Dust\" Hair'"
      ]
     },
     "execution_count": 266,
     "metadata": {},
     "output_type": "execute_result"
    }
   ],
   "source": [
    "test_title"
   ]
  },
  {
   "cell_type": "code",
   "execution_count": 267,
   "metadata": {},
   "outputs": [],
   "source": [
    "test_post = list(data_dict.values())[5][1]"
   ]
  },
  {
   "cell_type": "code",
   "execution_count": 268,
   "metadata": {},
   "outputs": [
    {
     "data": {
      "text/plain": [
       "'If you are trying to grow your hair out, then this article is for you. With \"dusting\" you hair, this means that you have control over trimming your ends, and means you will save money from going to a hairdresser that might cut off way more than just the ends. Dusting is also a great way to keep split ends at bay since you\\'ll be cutting away damage you can\\'t see before it has a chance to progress.\\n[[Category:Hair Styles & Cutting]]\\n== Steps ==\\n#  Divide your hair into somewhat equal sections. Twist and clip the sections firmly on your head. If you have curly hair, consider putting your hair into several small two-strand twists to make dusting your hair easier to control and see.<ref name=\"Loopityd\">[http://www.howtomakeyourhairgrowfastertips.com/dusting-101-the-better-way-to-cut-your-hair-and-prevent-split-ends/ Dusting 101: The Better Way to Cut Your Hair and Prevent Split Ends]</ref><br><br>[[Image:\"Dust\" Hair Step 1.jpg|center|550px]]\\n#  Use cutting shears specifically designed to cut hair. It\\'s worth the splurge to buy professional hair scissors when dusting or trimming your hair. Regular scissors actually aren\\'t sharp enough to cut through hair without causing damage and possibly split ends, so always opt for hair shears when dusting your hair.<br><br>[[Image:\"Dust\" Hair Step 2.jpg|center|550px]]\\n#  Unclip one of the sections. Try to go from the hair in your front bangs and work your way around.<br><br>[[Image:\"Dust\" Hair Step 3.jpg|center|550px]]\\n#  Examine each and every one of the ends. When you see a split end, then move on to to the next step.<br><br>[[Image:\"Dust\" Hair Step 4.jpg|center|550px]]\\n#  Trim no more than 1/4\" from the ends of your hair. Anything more is no longer dusting and considered a haircut! If you\\'re dusting your hair while it\\'s styled in two-strand twists, cut no more than 1/4\" from the end of each twist.<ref name=\"Loopityd\" /><br><br>[[Image:\"Dust\" Hair Step 5.jpg|center|550px]]\\n#  Repeat all the steps until you have dusting all sections of your hair. This might take a while so plan ahead!<br><br>[[Image:\"Dust\" Hair Step 6.jpg|center|550px]]\\n\\n== Tips ==\\n*Be sure to set aside time to do this, as depending on your amount of hair, this could take a long time.\\n*Be sure the snip the split over a sink or trash bin.\\n*You might need a friend to help you with the hair in the back so be sure to possibly plan for that as well!\\n\\n== Warnings ==\\n*Be very careful with the scissors! Cutting in the wrong place might not end in a good result.\\n*If you haven\\'t cut your hair in 6 months or more, chances are you have some split ends and dusting won\\'t get rid of the damage. Start off with a fresh hair cut instead where you trim at least a couple of inches, then give dusting a try to prevent split ends in the future.<ref name=\"Loopityd\" />\\n\\n== Related wikiHows ==\\n*[[Trim Hair at Home|How to Trim Hair at Home]]\\n*[[Grow Longer Curly Hair|How to Grow Longer Curly Hair]]\\n\\n== Sources and Citations ==\\n{{reflist}}'"
      ]
     },
     "execution_count": 268,
     "metadata": {},
     "output_type": "execute_result"
    }
   ],
   "source": [
    "test_post"
   ]
  },
  {
   "cell_type": "code",
   "execution_count": 269,
   "metadata": {},
   "outputs": [
    {
     "name": "stdout",
     "output_type": "stream",
     "text": [
      "If you are trying to grow your hair out, then this article is for you. With \"dusting\" you hair, this means that you have control over trimming your ends, and means you will save money from going to a hairdresser that might cut off way more than just the ends. Dusting is also a great way to keep split ends at bay since you'll be cutting away damage you can't see before it has a chance to progress.\n",
      "[[Category:Hair Styles & Cutting]]\n",
      "== Steps ==\n",
      "#  Divide your hair into somewhat equal sections. Twist and clip the sections firmly on your head. If you have curly hair, consider putting your hair into several small two-strand twists to make dusting your hair easier to control and see.<ref name=\"Loopityd\">[http://www.howtomakeyourhairgrowfastertips.com/dusting-101-the-better-way-to-cut-your-hair-and-prevent-split-ends/ Dusting 101: The Better Way to Cut Your Hair and Prevent Split Ends]</ref><br><br>[[Image:\"Dust\" Hair Step 1.jpg|center|550px]]\n",
      "#  Use cutting shears specifically designed to cut hair. It's worth the splurge to buy professional hair scissors when dusting or trimming your hair. Regular scissors actually aren't sharp enough to cut through hair without causing damage and possibly split ends, so always opt for hair shears when dusting your hair.<br><br>[[Image:\"Dust\" Hair Step 2.jpg|center|550px]]\n",
      "#  Unclip one of the sections. Try to go from the hair in your front bangs and work your way around.<br><br>[[Image:\"Dust\" Hair Step 3.jpg|center|550px]]\n",
      "#  Examine each and every one of the ends. When you see a split end, then move on to to the next step.<br><br>[[Image:\"Dust\" Hair Step 4.jpg|center|550px]]\n",
      "#  Trim no more than 1/4\" from the ends of your hair. Anything more is no longer dusting and considered a haircut! If you're dusting your hair while it's styled in two-strand twists, cut no more than 1/4\" from the end of each twist.<ref name=\"Loopityd\" /><br><br>[[Image:\"Dust\" Hair Step 5.jpg|center|550px]]\n",
      "#  Repeat all the steps until you have dusting all sections of your hair. This might take a while so plan ahead!<br><br>[[Image:\"Dust\" Hair Step 6.jpg|center|550px]]\n",
      "\n",
      "== Tips ==\n",
      "*Be sure to set aside time to do this, as depending on your amount of hair, this could take a long time.\n",
      "*Be sure the snip the split over a sink or trash bin.\n",
      "*You might need a friend to help you with the hair in the back so be sure to possibly plan for that as well!\n",
      "\n",
      "== Warnings ==\n",
      "*Be very careful with the scissors! Cutting in the wrong place might not end in a good result.\n",
      "*If you haven't cut your hair in 6 months or more, chances are you have some split ends and dusting won't get rid of the damage. Start off with a fresh hair cut instead where you trim at least a couple of inches, then give dusting a try to prevent split ends in the future.<ref name=\"Loopityd\" />\n",
      "\n",
      "== Related wikiHows ==\n",
      "*[[Trim Hair at Home|How to Trim Hair at Home]]\n",
      "*[[Grow Longer Curly Hair|How to Grow Longer Curly Hair]]\n",
      "\n",
      "== Sources and Citations ==\n",
      "{{reflist}}\n"
     ]
    }
   ],
   "source": [
    "print(test_post)"
   ]
  },
  {
   "cell_type": "code",
   "execution_count": 279,
   "metadata": {},
   "outputs": [],
   "source": [
    "intro = re.search(r'[\\s\\S]+(?=\\[\\[category)',test_post,re.M|re.I).group(0)\n",
    "steps = re.search(r'(?<= steps \\=\\=)[\\s\\S]+?(?=\\=\\= |\\Z)',test_post,re.M | re.I).group(0)\n",
    "tips = re.search(r'(?<= tips \\=\\=)[\\s\\S]+?(?=\\=\\= |\\Z)',test_post,re.M | re.I)\n",
    "warnings = re.search(r'(?<= warnings \\=\\=)[\\s\\S]+(?=\\=\\= )',test_post,re.M | re.I)\n",
    "tools = re.search(r'(?<= you\\'ll need \\=\\=)[\\s\\S]+(?=\\=\\= )',test_post,re.M | re.I)\n",
    "related_posts = re.search(r'(?<= related wikihows \\=\\=)[\\s\\S]+',test_post,re.M | re.I)"
   ]
  },
  {
   "cell_type": "code",
   "execution_count": 280,
   "metadata": {},
   "outputs": [
    {
     "data": {
      "text/plain": [
       "'\\n#  Divide your hair into somewhat equal sections. Twist and clip the sections firmly on your head. If you have curly hair, consider putting your hair into several small two-strand twists to make dusting your hair easier to control and see.<ref name=\"Loopityd\">[http://www.howtomakeyourhairgrowfastertips.com/dusting-101-the-better-way-to-cut-your-hair-and-prevent-split-ends/ Dusting 101: The Better Way to Cut Your Hair and Prevent Split Ends]</ref><br><br>[[Image:\"Dust\" Hair Step 1.jpg|center|550px]]\\n#  Use cutting shears specifically designed to cut hair. It\\'s worth the splurge to buy professional hair scissors when dusting or trimming your hair. Regular scissors actually aren\\'t sharp enough to cut through hair without causing damage and possibly split ends, so always opt for hair shears when dusting your hair.<br><br>[[Image:\"Dust\" Hair Step 2.jpg|center|550px]]\\n#  Unclip one of the sections. Try to go from the hair in your front bangs and work your way around.<br><br>[[Image:\"Dust\" Hair Step 3.jpg|center|550px]]\\n#  Examine each and every one of the ends. When you see a split end, then move on to to the next step.<br><br>[[Image:\"Dust\" Hair Step 4.jpg|center|550px]]\\n#  Trim no more than 1/4\" from the ends of your hair. Anything more is no longer dusting and considered a haircut! If you\\'re dusting your hair while it\\'s styled in two-strand twists, cut no more than 1/4\" from the end of each twist.<ref name=\"Loopityd\" /><br><br>[[Image:\"Dust\" Hair Step 5.jpg|center|550px]]\\n#  Repeat all the steps until you have dusting all sections of your hair. This might take a while so plan ahead!<br><br>[[Image:\"Dust\" Hair Step 6.jpg|center|550px]]\\n\\n'"
      ]
     },
     "execution_count": 280,
     "metadata": {},
     "output_type": "execute_result"
    }
   ],
   "source": [
    "steps"
   ]
  },
  {
   "cell_type": "code",
   "execution_count": 287,
   "metadata": {},
   "outputs": [
    {
     "data": {
      "text/plain": [
       "'\\n*[[Trim Hair at Home|How to Trim Hair at Home]]\\n*[[Grow Longer Curly Hair|How to Grow Longer Curly Hair]]\\n\\n== Sources and Citations ==\\n{{reflist}}'"
      ]
     },
     "execution_count": 287,
     "metadata": {},
     "output_type": "execute_result"
    }
   ],
   "source": [
    "related_posts.group(0)"
   ]
  },
  {
   "cell_type": "code",
   "execution_count": 118,
   "metadata": {},
   "outputs": [
    {
     "name": "stderr",
     "output_type": "stream",
     "text": [
      "  4%|██▉                                                                        | 7721/198150 [00:29<12:04, 262.90it/s]"
     ]
    },
    {
     "ename": "KeyboardInterrupt",
     "evalue": "",
     "output_type": "error",
     "traceback": [
      "\u001b[1;31m---------------------------------------------------------------------------\u001b[0m",
      "\u001b[1;31mKeyboardInterrupt\u001b[0m                         Traceback (most recent call last)",
      "\u001b[1;32m<ipython-input-118-3e382187773c>\u001b[0m in \u001b[0;36m<module>\u001b[1;34m()\u001b[0m\n\u001b[0;32m      4\u001b[0m         \u001b[0mcat_list\u001b[0m\u001b[1;33m.\u001b[0m\u001b[0mappend\u001b[0m\u001b[1;33m(\u001b[0m\u001b[0mcat\u001b[0m\u001b[1;33m.\u001b[0m\u001b[0mgroup\u001b[0m\u001b[1;33m(\u001b[0m\u001b[1;36m0\u001b[0m\u001b[1;33m)\u001b[0m\u001b[1;33m)\u001b[0m\u001b[1;33m\u001b[0m\u001b[0m\n\u001b[0;32m      5\u001b[0m     \u001b[0mtitle\u001b[0m \u001b[1;33m=\u001b[0m \u001b[0mval\u001b[0m\u001b[1;33m[\u001b[0m\u001b[1;36m0\u001b[0m\u001b[1;33m]\u001b[0m\u001b[1;33m\u001b[0m\u001b[0m\n\u001b[1;32m----> 6\u001b[1;33m     \u001b[0mintro\u001b[0m \u001b[1;33m=\u001b[0m \u001b[0mre\u001b[0m\u001b[1;33m.\u001b[0m\u001b[0msearch\u001b[0m\u001b[1;33m(\u001b[0m\u001b[1;34mr'[\\s\\S]+(?=\\[\\[category)'\u001b[0m\u001b[1;33m,\u001b[0m\u001b[0mval\u001b[0m\u001b[1;33m[\u001b[0m\u001b[1;36m1\u001b[0m\u001b[1;33m]\u001b[0m\u001b[1;33m,\u001b[0m\u001b[0mre\u001b[0m\u001b[1;33m.\u001b[0m\u001b[0mM\u001b[0m\u001b[1;33m|\u001b[0m\u001b[0mre\u001b[0m\u001b[1;33m.\u001b[0m\u001b[0mI\u001b[0m\u001b[1;33m)\u001b[0m\u001b[1;33m\u001b[0m\u001b[0m\n\u001b[0m\u001b[0;32m      7\u001b[0m     \u001b[1;32mif\u001b[0m \u001b[0mintro\u001b[0m \u001b[1;32mis\u001b[0m \u001b[1;32mnot\u001b[0m \u001b[1;32mNone\u001b[0m\u001b[1;33m:\u001b[0m\u001b[1;33m\u001b[0m\u001b[0m\n\u001b[0;32m      8\u001b[0m         \u001b[0mintro\u001b[0m \u001b[1;33m=\u001b[0m \u001b[0mintro\u001b[0m\u001b[1;33m.\u001b[0m\u001b[0mgroup\u001b[0m\u001b[1;33m(\u001b[0m\u001b[1;36m0\u001b[0m\u001b[1;33m)\u001b[0m\u001b[1;33m\u001b[0m\u001b[0m\n",
      "\u001b[1;31mKeyboardInterrupt\u001b[0m: "
     ]
    }
   ],
   "source": [
    "for val in tqdm(data_dict.values()):\n",
    "    cat = re.search(r'(?<=\\[\\[category:)[^\\s\\\\\\]]*',val[1],flags=re.I)\n",
    "\n",
    "    title = val[0]\n",
    "    intro = re.search(r'[\\s\\S]+(?=\\[\\[category)',val[1],re.M|re.I)\n",
    "    if intro is not None:\n",
    "        intro = intro.group(0)\n",
    "    steps = re.search(r'(?<= steps \\=\\=)[\\s\\S]+(?=\\=\\= )',val[1],re.M | re.I)\n",
    "    if steps is not None:\n",
    "        steps = steps.group(0)\n",
    "        steps = steps.split('\\n#')\n",
    "        steps = [i.strip() for i in steps if i != '']"
   ]
  },
  {
   "cell_type": "code",
   "execution_count": 119,
   "metadata": {},
   "outputs": [
    {
     "data": {
      "text/plain": [
       "'Have you ever needed to backup your Joomla site and move it to a different web host or to save an off line copy of your Joomla web and MySQL database files? There are a few ways to do this task using your web hosting control panel. This article will cover using cPanel to backup your Joomla web site so you can move it to a new web hosting space or make a backup copy for off web storage.\\n'"
      ]
     },
     "execution_count": 119,
     "metadata": {},
     "output_type": "execute_result"
    },
    {
     "name": "stderr",
     "output_type": "stream",
     "text": [
      "\r",
      "  4%|██▉                                                                        | 7721/198150 [00:44<18:05, 175.45it/s]"
     ]
    }
   ],
   "source": [
    "intro"
   ]
  },
  {
   "cell_type": "code",
   "execution_count": 300,
   "metadata": {},
   "outputs": [],
   "source": [
    "class Post(object):\n",
    "    \n",
    "    @staticmethod\n",
    "    def decode(regex, sep=None):\n",
    "        if regex is None:\n",
    "            return None\n",
    "        else:\n",
    "            if sep is None:\n",
    "                return regex.group(0)\n",
    "            else:\n",
    "                return [w.strip() for w in regex.group(0).split(sep) if w != '']\n",
    "    \n",
    "    def __init__(self,entry):\n",
    "        section_regex = lambda section: r'(?<= {} \\=\\=)[\\s\\S]+?(?=\\=\\= |\\Z)'.format(section)\n",
    "        \n",
    "        self.title = entry[0]\n",
    "        self.text = entry[1]\n",
    "        self.intro = Post.decode(re.search(r'[\\s\\S]+(?=\\[\\[category)',self.text,re.M|re.I))\n",
    "        self.steps = Post.decode(re.search(section_regex('steps'),self.text,re.M | re.I), sep='\\n#')\n",
    "        self.tips = Post.decode(re.search(section_regex('tips'),self.text,re.M | re.I), sep='\\n*')\n",
    "        self.warnings = Post.decode(re.search(section_regex('warnings'),self.text,re.M | re.I), sep='\\n*')\n",
    "        self.tools = Post.decode(re.search(section_regex('you\\'ll need'),self.text,re.M | re.I), sep='\\n*')\n",
    "        self.related_posts = Post.decode(re.search(section_regex('related wikihows'),self.text,re.M | re.I), sep='\\n*')"
   ]
  },
  {
   "cell_type": "code",
   "execution_count": 301,
   "metadata": {},
   "outputs": [
    {
     "data": {
      "text/plain": [
       "\"'Despook' or 'Desensitize' a Frightened Horse\""
      ]
     },
     "execution_count": 301,
     "metadata": {},
     "output_type": "execute_result"
    }
   ],
   "source": [
    "Post(list(data_dict.values())[20]).title"
   ]
  },
  {
   "cell_type": "code",
   "execution_count": 302,
   "metadata": {},
   "outputs": [
    {
     "data": {
      "text/plain": [
       "['[[Calm Your Horse Down Quickly|How to Calm Your Horse Down Quickly]]',\n",
       " '[[Tell if a Horse Is Frightened|How to Tell if a Horse Is Frightened]]',\n",
       " '[[Gain the Trust of a Recently Abused Horse|How to Gain the Trust of a Recently Abused Horse]]',\n",
       " '[[Get a Horse Under Control|How to Get a Horse Under Control]]',\n",
       " '[[De Sensitize Your Horse to Jump Wings|How to De Sensitize Your Horse to Jump Wings]]',\n",
       " '[[Desensitize Your Horse|How to Desensitize Your Horse]]',\n",
       " '[[Approach a Nervous Horse|How to Approach a Nervous Horse]]',\n",
       " '[[Make a Horse Relaxed at a Horse Show|How to Make a Horse Relaxed at a Horse Show]]']"
      ]
     },
     "execution_count": 302,
     "metadata": {},
     "output_type": "execute_result"
    }
   ],
   "source": [
    "Post(list(data_dict.values())[20]).related_posts"
   ]
  },
  {
   "cell_type": "code",
   "execution_count": 303,
   "metadata": {},
   "outputs": [
    {
     "data": {
      "text/plain": [
       "['A horse',\n",
       " 'Halter',\n",
       " 'Lead rope',\n",
       " 'Whip',\n",
       " 'Tarp',\n",
       " 'Helmet if you feel it necessary']"
      ]
     },
     "execution_count": 303,
     "metadata": {},
     "output_type": "execute_result"
    }
   ],
   "source": [
    "Post(list(data_dict.values())[20]).tools"
   ]
  },
  {
   "cell_type": "code",
   "execution_count": null,
   "metadata": {},
   "outputs": [],
   "source": []
  }
 ],
 "metadata": {
  "kernelspec": {
   "display_name": "Python 3",
   "language": "python",
   "name": "python3"
  },
  "language_info": {
   "codemirror_mode": {
    "name": "ipython",
    "version": 3
   },
   "file_extension": ".py",
   "mimetype": "text/x-python",
   "name": "python",
   "nbconvert_exporter": "python",
   "pygments_lexer": "ipython3",
   "version": "3.6.4"
  }
 },
 "nbformat": 4,
 "nbformat_minor": 2
}
